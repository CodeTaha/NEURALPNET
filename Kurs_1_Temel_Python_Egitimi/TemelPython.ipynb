{
 "cells": [
  {
   "cell_type": "markdown",
   "id": "f517557e-4447-4bef-b7fd-f2bf22a1d939",
   "metadata": {},
   "source": [
    "# Temel Python"
   ]
  },
  {
   "cell_type": "markdown",
   "id": "06cb98be-4cda-4250-b15c-f37ab9315450",
   "metadata": {},
   "source": [
    "## Veri Türleri ##"
   ]
  },
  {
   "cell_type": "markdown",
   "id": "ba66f6f9-946f-4fe3-a103-b517022b51a4",
   "metadata": {},
   "source": [
    "### String"
   ]
  },
  {
   "cell_type": "code",
   "execution_count": 4,
   "id": "09ff3df8-2657-470e-9f63-9115199e94be",
   "metadata": {},
   "outputs": [
    {
     "name": "stdout",
     "output_type": "stream",
     "text": [
      "Merhaba Dünya\n"
     ]
    }
   ],
   "source": [
    "x = \"Merhaba Dünya\"\n",
    "print(x)"
   ]
  },
  {
   "cell_type": "code",
   "execution_count": 6,
   "id": "a418dd7e-008b-440b-b3c1-e39822e8b370",
   "metadata": {},
   "outputs": [
    {
     "data": {
      "text/plain": [
       "str"
      ]
     },
     "execution_count": 6,
     "metadata": {},
     "output_type": "execute_result"
    }
   ],
   "source": [
    "type(x)"
   ]
  },
  {
   "cell_type": "markdown",
   "id": "bfd8fa3a-ad04-4825-a518-a31f9118b054",
   "metadata": {},
   "source": [
    "### Tam Sayı"
   ]
  },
  {
   "cell_type": "code",
   "execution_count": 9,
   "id": "c4f57d1e-e3d2-4241-a032-f172c10fa981",
   "metadata": {},
   "outputs": [
    {
     "name": "stdout",
     "output_type": "stream",
     "text": [
      "50\n"
     ]
    }
   ],
   "source": [
    "x = 50\n",
    "print(x)"
   ]
  },
  {
   "cell_type": "code",
   "execution_count": 11,
   "id": "f2cb6c1b-ce9b-4218-b2ea-a83b286c6a59",
   "metadata": {},
   "outputs": [
    {
     "data": {
      "text/plain": [
       "int"
      ]
     },
     "execution_count": 11,
     "metadata": {},
     "output_type": "execute_result"
    }
   ],
   "source": [
    "type(x)"
   ]
  },
  {
   "cell_type": "markdown",
   "id": "cb401200-c4a4-43a8-b525-af659e0206bb",
   "metadata": {},
   "source": [
    "### Ondalıklı Sayı"
   ]
  },
  {
   "cell_type": "code",
   "execution_count": 14,
   "id": "12f5d940-c3af-4da2-ad99-88043bff85a1",
   "metadata": {},
   "outputs": [
    {
     "name": "stdout",
     "output_type": "stream",
     "text": [
      "60.5\n"
     ]
    }
   ],
   "source": [
    "x = 60.5\n",
    "print(x)"
   ]
  },
  {
   "cell_type": "code",
   "execution_count": 16,
   "id": "3aeaf4f8-9e0d-4872-a45e-2727658ffad3",
   "metadata": {},
   "outputs": [
    {
     "data": {
      "text/plain": [
       "float"
      ]
     },
     "execution_count": 16,
     "metadata": {},
     "output_type": "execute_result"
    }
   ],
   "source": [
    "type(x)"
   ]
  },
  {
   "cell_type": "markdown",
   "id": "3893b564-d55c-47b4-a271-23c7bb246f53",
   "metadata": {},
   "source": [
    "### Karmaşık"
   ]
  },
  {
   "cell_type": "code",
   "execution_count": 21,
   "id": "86c66fc7-18ca-4059-9134-b3ca9dff9bcf",
   "metadata": {},
   "outputs": [
    {
     "name": "stdout",
     "output_type": "stream",
     "text": [
      "3j\n"
     ]
    }
   ],
   "source": [
    "x = 3j\n",
    "print(x)"
   ]
  },
  {
   "cell_type": "code",
   "execution_count": 23,
   "id": "64a4874d-7ce8-47cd-9cd4-17ac28a50f80",
   "metadata": {},
   "outputs": [
    {
     "data": {
      "text/plain": [
       "complex"
      ]
     },
     "execution_count": 23,
     "metadata": {},
     "output_type": "execute_result"
    }
   ],
   "source": [
    "type(x)"
   ]
  },
  {
   "cell_type": "markdown",
   "id": "59a669dd-a923-4863-be95-98b5393ac070",
   "metadata": {},
   "source": [
    "### Liste"
   ]
  },
  {
   "cell_type": "code",
   "execution_count": 26,
   "id": "71b033d4-110f-4368-929d-778208e9d776",
   "metadata": {},
   "outputs": [
    {
     "name": "stdout",
     "output_type": "stream",
     "text": [
      "['Ali', 'Ayşe', 'Ali']\n"
     ]
    }
   ],
   "source": [
    "x = [\"Ali\", \"Ayşe\", \"Ali\"]\n",
    "print(x)"
   ]
  },
  {
   "cell_type": "code",
   "execution_count": 28,
   "id": "5c22e8c2-821a-4215-bdc1-e58ae1c0ce03",
   "metadata": {},
   "outputs": [
    {
     "data": {
      "text/plain": [
       "list"
      ]
     },
     "execution_count": 28,
     "metadata": {},
     "output_type": "execute_result"
    }
   ],
   "source": [
    "type(x)"
   ]
  },
  {
   "cell_type": "markdown",
   "id": "64205eef-cde6-45ec-aff9-f445dd1adb9b",
   "metadata": {},
   "source": [
    "### Demet"
   ]
  },
  {
   "cell_type": "code",
   "execution_count": 31,
   "id": "a804d6ec-bd5c-4d08-a524-861a3ad631e1",
   "metadata": {},
   "outputs": [
    {
     "name": "stdout",
     "output_type": "stream",
     "text": [
      "('Ali', 'Ayşe', 'Ali')\n"
     ]
    }
   ],
   "source": [
    "x = (\"Ali\", \"Ayşe\", \"Ali\")\n",
    "print(x)"
   ]
  },
  {
   "cell_type": "code",
   "execution_count": 33,
   "id": "6ae72dc8-39ce-4887-a95b-678e7a056c77",
   "metadata": {},
   "outputs": [
    {
     "data": {
      "text/plain": [
       "tuple"
      ]
     },
     "execution_count": 33,
     "metadata": {},
     "output_type": "execute_result"
    }
   ],
   "source": [
    "type(x)"
   ]
  },
  {
   "cell_type": "markdown",
   "id": "2fadb13d-274d-4648-851c-94d85c48c76d",
   "metadata": {},
   "source": [
    "### Range"
   ]
  },
  {
   "cell_type": "code",
   "execution_count": 36,
   "id": "af6921a3-a791-471d-a274-91e339f87f3c",
   "metadata": {},
   "outputs": [
    {
     "name": "stdout",
     "output_type": "stream",
     "text": [
      "range(0, 10)\n"
     ]
    }
   ],
   "source": [
    "x = range(10)\n",
    "print(x)"
   ]
  },
  {
   "cell_type": "code",
   "execution_count": 38,
   "id": "e126dede-59d7-45d6-a9a3-89bbbf90ed01",
   "metadata": {},
   "outputs": [
    {
     "data": {
      "text/plain": [
       "range"
      ]
     },
     "execution_count": 38,
     "metadata": {},
     "output_type": "execute_result"
    }
   ],
   "source": [
    "type(x)"
   ]
  },
  {
   "cell_type": "markdown",
   "id": "9c1800b0-1a93-429c-bb38-b5a1a00e6f43",
   "metadata": {},
   "source": [
    "### Sözlük"
   ]
  },
  {
   "cell_type": "code",
   "execution_count": 41,
   "id": "cb274d5f-005e-4410-99e5-f5ec3d4ba8d9",
   "metadata": {},
   "outputs": [
    {
     "name": "stdout",
     "output_type": "stream",
     "text": [
      "{'ad': 'Taha', 'yaş': 22}\n"
     ]
    }
   ],
   "source": [
    "x = {\"ad\": \"Taha\", \"yaş\": 22}\n",
    "print(x)"
   ]
  },
  {
   "cell_type": "code",
   "execution_count": 43,
   "id": "54c426ff-f6d7-448c-bab7-a77b46a85cb9",
   "metadata": {},
   "outputs": [
    {
     "data": {
      "text/plain": [
       "dict"
      ]
     },
     "execution_count": 43,
     "metadata": {},
     "output_type": "execute_result"
    }
   ],
   "source": [
    "type(x)"
   ]
  },
  {
   "cell_type": "markdown",
   "id": "7ce9511d-162a-46c1-8988-3e27f7a22848",
   "metadata": {},
   "source": [
    "### Dize"
   ]
  },
  {
   "cell_type": "code",
   "execution_count": 46,
   "id": "3c4924da-7c42-4c4b-98e6-c948a96b144c",
   "metadata": {},
   "outputs": [
    {
     "name": "stdout",
     "output_type": "stream",
     "text": [
      "{'Ayşe', 'Ali'}\n"
     ]
    }
   ],
   "source": [
    "x = {\"Ali\", \"Ayşe\", \"Ali\"}\n",
    "print(x)"
   ]
  },
  {
   "cell_type": "code",
   "execution_count": 48,
   "id": "c1c1694c-e0bc-43b5-93db-4f1d43cda5a2",
   "metadata": {},
   "outputs": [
    {
     "data": {
      "text/plain": [
       "set"
      ]
     },
     "execution_count": 48,
     "metadata": {},
     "output_type": "execute_result"
    }
   ],
   "source": [
    "type(x)"
   ]
  },
  {
   "cell_type": "markdown",
   "id": "8c235eaa-8d1d-45ed-92d8-cbc72d04878b",
   "metadata": {},
   "source": [
    "### Değiştirilemez-Kıstlanmış Dize"
   ]
  },
  {
   "cell_type": "code",
   "execution_count": 51,
   "id": "1dfc966b-c36b-413b-9bfd-673dcea11aeb",
   "metadata": {},
   "outputs": [
    {
     "name": "stdout",
     "output_type": "stream",
     "text": [
      "frozenset({'Ayşe', 'Ali'})\n"
     ]
    }
   ],
   "source": [
    "x = frozenset({\"Ali\", \"Ayşe\", \"Ali\"})\n",
    "print(x)"
   ]
  },
  {
   "cell_type": "code",
   "execution_count": 53,
   "id": "7343ba03-c5ba-4bee-aab5-cf29dcca711c",
   "metadata": {},
   "outputs": [
    {
     "data": {
      "text/plain": [
       "frozenset"
      ]
     },
     "execution_count": 53,
     "metadata": {},
     "output_type": "execute_result"
    }
   ],
   "source": [
    "type(x)"
   ]
  },
  {
   "cell_type": "markdown",
   "id": "a90f9447-2a6a-4c0d-b9c4-87832930f59e",
   "metadata": {},
   "source": [
    "### Mantıksal Değişken"
   ]
  },
  {
   "cell_type": "code",
   "execution_count": 56,
   "id": "e3b0b878-26f6-45ed-a869-a0662b2a1598",
   "metadata": {},
   "outputs": [
    {
     "name": "stdout",
     "output_type": "stream",
     "text": [
      "True\n"
     ]
    }
   ],
   "source": [
    "x = True\n",
    "print(x)"
   ]
  },
  {
   "cell_type": "code",
   "execution_count": 58,
   "id": "4a7488a4-dec8-48f6-a0cd-3f4e89865e1a",
   "metadata": {},
   "outputs": [
    {
     "data": {
      "text/plain": [
       "bool"
      ]
     },
     "execution_count": 58,
     "metadata": {},
     "output_type": "execute_result"
    }
   ],
   "source": [
    "type(x)"
   ]
  },
  {
   "cell_type": "markdown",
   "id": "be444dfb-8feb-4d92-9a35-de2542decb47",
   "metadata": {},
   "source": [
    "### Bayt"
   ]
  },
  {
   "cell_type": "code",
   "execution_count": 63,
   "id": "8a787d44-c5df-497f-b251-3175bddb5367",
   "metadata": {},
   "outputs": [
    {
     "name": "stdout",
     "output_type": "stream",
     "text": [
      "b'Metin'\n"
     ]
    }
   ],
   "source": [
    "x = b\"Metin\"\n",
    "print(x)"
   ]
  },
  {
   "cell_type": "code",
   "execution_count": 65,
   "id": "d6137788-a429-45b9-b8f9-cd1956322817",
   "metadata": {},
   "outputs": [
    {
     "data": {
      "text/plain": [
       "bytes"
      ]
     },
     "execution_count": 65,
     "metadata": {},
     "output_type": "execute_result"
    }
   ],
   "source": [
    "type(x)"
   ]
  },
  {
   "cell_type": "markdown",
   "id": "d1a0c889-4f2d-41dc-a7c3-248bee0a157c",
   "metadata": {},
   "source": [
    "### Bayt Liste"
   ]
  },
  {
   "cell_type": "code",
   "execution_count": 68,
   "id": "ddbfcc62-21ee-488c-9ec1-66361f052b74",
   "metadata": {},
   "outputs": [
    {
     "name": "stdout",
     "output_type": "stream",
     "text": [
      "bytearray(b'\\x00\\x00\\x00\\x00')\n"
     ]
    }
   ],
   "source": [
    "x = bytearray(4)\n",
    "print(x)"
   ]
  },
  {
   "cell_type": "code",
   "execution_count": 70,
   "id": "1421443a-75c3-4c3a-bbda-cea9c823c1f2",
   "metadata": {},
   "outputs": [
    {
     "data": {
      "text/plain": [
       "bytearray"
      ]
     },
     "execution_count": 70,
     "metadata": {},
     "output_type": "execute_result"
    }
   ],
   "source": [
    "type(x)"
   ]
  },
  {
   "cell_type": "markdown",
   "id": "e066a3fb-2b23-4dcf-b670-254c4a88693c",
   "metadata": {},
   "source": [
    "### Bellek Görünümü"
   ]
  },
  {
   "cell_type": "code",
   "execution_count": 73,
   "id": "c61c2ec1-b8a8-4cc4-a862-4a12d0d49e9f",
   "metadata": {},
   "outputs": [
    {
     "name": "stdout",
     "output_type": "stream",
     "text": [
      "<memory at 0x0000020C06E8AA40>\n"
     ]
    }
   ],
   "source": [
    "x = memoryview(bytes(6))\n",
    "print(x)"
   ]
  },
  {
   "cell_type": "code",
   "execution_count": 75,
   "id": "3690aedd-a79b-4304-adec-04c32b9ec0a3",
   "metadata": {},
   "outputs": [
    {
     "data": {
      "text/plain": [
       "memoryview"
      ]
     },
     "execution_count": 75,
     "metadata": {},
     "output_type": "execute_result"
    }
   ],
   "source": [
    "type(x)"
   ]
  },
  {
   "cell_type": "markdown",
   "id": "99b8f9e8-0c4f-4247-b24e-41ca3ddb5b59",
   "metadata": {},
   "source": [
    "### Tipsiz"
   ]
  },
  {
   "cell_type": "code",
   "execution_count": 78,
   "id": "9cc357f7-4342-472d-972b-601c3d3cdc75",
   "metadata": {},
   "outputs": [
    {
     "name": "stdout",
     "output_type": "stream",
     "text": [
      "None\n"
     ]
    }
   ],
   "source": [
    "x = None\n",
    "print(x)"
   ]
  },
  {
   "cell_type": "code",
   "execution_count": 80,
   "id": "cd373b80-6d25-429c-83e1-d0daca7f2609",
   "metadata": {},
   "outputs": [
    {
     "data": {
      "text/plain": [
       "NoneType"
      ]
     },
     "execution_count": 80,
     "metadata": {},
     "output_type": "execute_result"
    }
   ],
   "source": [
    "type(x)"
   ]
  },
  {
   "cell_type": "markdown",
   "id": "dc04dcb0-10f8-4f0b-aa3e-389454f424a6",
   "metadata": {},
   "source": [
    "## Print Fonksiyonu"
   ]
  },
  {
   "cell_type": "code",
   "execution_count": 83,
   "id": "4d3a3285-fd47-4f9f-9a9a-376272b5f8a2",
   "metadata": {},
   "outputs": [
    {
     "name": "stdout",
     "output_type": "stream",
     "text": [
      "Merhaba Dünya\n"
     ]
    }
   ],
   "source": [
    "print(\"Merhaba Dünya\")"
   ]
  },
  {
   "cell_type": "code",
   "execution_count": 101,
   "id": "7792fd1c-d963-4e78-b3fb-521772fa92cf",
   "metadata": {},
   "outputs": [
    {
     "name": "stdout",
     "output_type": "stream",
     "text": [
      "Python Kursuna Hoşgeldiniz "
     ]
    }
   ],
   "source": [
    "print(\"Python Kursuna\", end=' ')\n",
    "print(\"Hoşgeldiniz\", end=' ')"
   ]
  },
  {
   "cell_type": "code",
   "execution_count": 91,
   "id": "b66f5077-59e2-462e-a0a0-8fa9d7585e65",
   "metadata": {},
   "outputs": [
    {
     "name": "stdout",
     "output_type": "stream",
     "text": [
      "07-12-2024\n"
     ]
    }
   ],
   "source": [
    "print('07', '12', '2024', sep='-')"
   ]
  },
  {
   "cell_type": "code",
   "execution_count": 103,
   "id": "5667a914-4fea-4550-a7aa-9c9260675c12",
   "metadata": {},
   "outputs": [
    {
     "name": "stdout",
     "output_type": "stream",
     "text": [
      "taha@gmail.com\n"
     ]
    }
   ],
   "source": [
    "print('taha', 'gmail.com', sep='@')"
   ]
  },
  {
   "cell_type": "markdown",
   "id": "5fdd96c7-a8de-48bd-b815-09509dd2b83b",
   "metadata": {},
   "source": [
    "## İnput Fonksiyonu"
   ]
  },
  {
   "cell_type": "code",
   "execution_count": 120,
   "id": "9e6c96b7-5695-4b34-a200-05f10d416729",
   "metadata": {},
   "outputs": [
    {
     "name": "stdin",
     "output_type": "stream",
     "text": [
      "Bir Sayı Giriniz: 12\n"
     ]
    },
    {
     "name": "stdout",
     "output_type": "stream",
     "text": [
      "Girdiğiniz Sayı: 12\n"
     ]
    }
   ],
   "source": [
    "val = input(\"Bir Sayı Giriniz:\")\n",
    "print(\"Girdiğiniz Sayı: \" + val)"
   ]
  },
  {
   "cell_type": "markdown",
   "id": "a4a4d9f6-0c3b-46b2-9a32-f59c9799423b",
   "metadata": {},
   "source": [
    "## Kodu Yorum Satırına Alma"
   ]
  },
  {
   "cell_type": "markdown",
   "id": "e340feb4-cbf7-4646-855f-4b367295b91a",
   "metadata": {},
   "source": [
    "### Tek Satırlı Yorum Satırı"
   ]
  },
  {
   "cell_type": "code",
   "execution_count": 124,
   "id": "78625495-9229-407f-8f95-90e3838ccabb",
   "metadata": {},
   "outputs": [
    {
     "name": "stdout",
     "output_type": "stream",
     "text": [
      "5\n"
     ]
    }
   ],
   "source": [
    "#print(10)\n",
    "print(5)"
   ]
  },
  {
   "cell_type": "markdown",
   "id": "4fe8ca11-0560-4991-83b4-4706ac3bd2b0",
   "metadata": {},
   "source": [
    "### Çok Satırlı Yorum Satırı"
   ]
  },
  {
   "cell_type": "code",
   "execution_count": 127,
   "id": "4b7d3158-a941-434b-aab7-d5dd4d532a5f",
   "metadata": {},
   "outputs": [
    {
     "name": "stdout",
     "output_type": "stream",
     "text": [
      "5\n",
      "Merhaba Dünya\n"
     ]
    }
   ],
   "source": [
    "y = \"Merhaba Dünya\"\n",
    "\"\"\"\n",
    "x = 10 \n",
    "print(x)\n",
    "\"\"\"\n",
    "x = 5\n",
    "print(x)\n",
    "print(y)"
   ]
  },
  {
   "cell_type": "markdown",
   "id": "b41bc4bf-e06c-4e93-8986-900c6570cc6d",
   "metadata": {},
   "source": [
    "## Aritmetik Operatörler"
   ]
  },
  {
   "cell_type": "code",
   "execution_count": 130,
   "id": "a7a367bb-c73b-4b3a-bc4e-6b2d209e8c3a",
   "metadata": {},
   "outputs": [],
   "source": [
    "a = 9\n",
    "b = 4"
   ]
  },
  {
   "cell_type": "markdown",
   "id": "1c15502a-e0f3-4481-af13-bf254bcc9e2f",
   "metadata": {},
   "source": [
    "### Toplama"
   ]
  },
  {
   "cell_type": "code",
   "execution_count": 133,
   "id": "bc361882-8c9f-4c80-9bf2-d20139c478cb",
   "metadata": {},
   "outputs": [
    {
     "name": "stdout",
     "output_type": "stream",
     "text": [
      "13\n"
     ]
    }
   ],
   "source": [
    "ekle = a + b\n",
    "print(ekle)"
   ]
  },
  {
   "cell_type": "markdown",
   "id": "14f14025-c574-4d72-96d8-6dd900ca5cc5",
   "metadata": {},
   "source": [
    "### Çıkarma"
   ]
  },
  {
   "cell_type": "code",
   "execution_count": 138,
   "id": "6f5f2571-64e5-41b5-80a4-5d9b6f472097",
   "metadata": {},
   "outputs": [
    {
     "name": "stdout",
     "output_type": "stream",
     "text": [
      "-5\n"
     ]
    }
   ],
   "source": [
    "fark = b - a\n",
    "print(fark)"
   ]
  },
  {
   "cell_type": "markdown",
   "id": "99ff447d-a539-4c17-939c-eb59405e1cfb",
   "metadata": {},
   "source": [
    "### Çarpma"
   ]
  },
  {
   "cell_type": "code",
   "execution_count": 141,
   "id": "abed728e-d6ad-4bbd-80e3-38778f5fb534",
   "metadata": {},
   "outputs": [
    {
     "name": "stdout",
     "output_type": "stream",
     "text": [
      "36\n"
     ]
    }
   ],
   "source": [
    "carp = a * b\n",
    "print(carp)"
   ]
  },
  {
   "cell_type": "markdown",
   "id": "dd74d3f3-e815-4ed9-a502-d60578e9f677",
   "metadata": {},
   "source": [
    "### Bölme"
   ]
  },
  {
   "cell_type": "code",
   "execution_count": 148,
   "id": "2348b495-acc0-4a61-bd10-ad54ac847c0c",
   "metadata": {},
   "outputs": [
    {
     "name": "stdout",
     "output_type": "stream",
     "text": [
      "2.25\n"
     ]
    }
   ],
   "source": [
    "bolme = a / b\n",
    "print(bolme)"
   ]
  },
  {
   "cell_type": "markdown",
   "id": "f908ba46-5609-4dc9-8e40-54d4a73a6e76",
   "metadata": {},
   "source": [
    "### Bölümden Kalan"
   ]
  },
  {
   "cell_type": "code",
   "execution_count": 144,
   "id": "8adfcec4-1b2d-416a-bf12-aad59a4b3219",
   "metadata": {},
   "outputs": [
    {
     "name": "stdout",
     "output_type": "stream",
     "text": [
      "1\n"
     ]
    }
   ],
   "source": [
    "mod = a % b;\n",
    "print(mod);"
   ]
  },
  {
   "cell_type": "markdown",
   "id": "a7d72a76-a9dd-47a3-93dc-7d2c349daa37",
   "metadata": {},
   "source": [
    "### Üs"
   ]
  },
  {
   "cell_type": "code",
   "execution_count": 151,
   "id": "72a0d9df-e68e-4fb6-b1e0-ce14cf595c6c",
   "metadata": {},
   "outputs": [
    {
     "name": "stdout",
     "output_type": "stream",
     "text": [
      "6561\n"
     ]
    }
   ],
   "source": [
    "us = a ** b\n",
    "print(us)"
   ]
  },
  {
   "cell_type": "markdown",
   "id": "533de75f-ecbe-47da-94d2-e667ff89cf55",
   "metadata": {},
   "source": [
    "## Karşılaştırma Operatörleri"
   ]
  },
  {
   "cell_type": "code",
   "execution_count": 154,
   "id": "84ec3b03-01e7-4fec-987d-355f44059fab",
   "metadata": {},
   "outputs": [],
   "source": [
    "a = 13\n",
    "b = 33"
   ]
  },
  {
   "cell_type": "markdown",
   "id": "0bb98c5e-c436-47e0-a4a7-fdf86a4481ba",
   "metadata": {},
   "source": [
    "### a Sayısı b Sayısından Büyük mü?"
   ]
  },
  {
   "cell_type": "code",
   "execution_count": 157,
   "id": "70da5e97-f3e2-4b20-974a-eb151d8a18e8",
   "metadata": {},
   "outputs": [
    {
     "name": "stdout",
     "output_type": "stream",
     "text": [
      "False\n"
     ]
    }
   ],
   "source": [
    "print(a > b)"
   ]
  },
  {
   "cell_type": "markdown",
   "id": "3e398ae1-7ce4-4e12-a489-28570db51ca6",
   "metadata": {},
   "source": [
    "### a Sayısı b Sayısından Küçük mü?"
   ]
  },
  {
   "cell_type": "code",
   "execution_count": 160,
   "id": "cfc44fcd-7248-402b-8f5b-2c6de190bee1",
   "metadata": {},
   "outputs": [
    {
     "name": "stdout",
     "output_type": "stream",
     "text": [
      "True\n"
     ]
    }
   ],
   "source": [
    "print(a < b)"
   ]
  },
  {
   "cell_type": "markdown",
   "id": "2deb1449-82b0-4519-b1d3-2eb32e925d56",
   "metadata": {},
   "source": [
    "### a Sayısı ile b Sayısı Eşit mi?"
   ]
  },
  {
   "cell_type": "code",
   "execution_count": 163,
   "id": "d058ea09-c7f2-472a-8f7b-17925d4e55c0",
   "metadata": {},
   "outputs": [
    {
     "name": "stdout",
     "output_type": "stream",
     "text": [
      "False\n"
     ]
    }
   ],
   "source": [
    "print(a == b)"
   ]
  },
  {
   "cell_type": "markdown",
   "id": "0b578ea4-854d-48a5-bcf6-a4efc77b1d81",
   "metadata": {},
   "source": [
    "### a Sayısı ile b Sayısı Eşit Değil mi?"
   ]
  },
  {
   "cell_type": "code",
   "execution_count": 166,
   "id": "6a4ab855-bbc3-4056-b93a-0f3026096ebd",
   "metadata": {},
   "outputs": [
    {
     "name": "stdout",
     "output_type": "stream",
     "text": [
      "True\n"
     ]
    }
   ],
   "source": [
    "print(a != b)"
   ]
  },
  {
   "cell_type": "markdown",
   "id": "442d38f1-7f8b-4581-972b-f271516a25e0",
   "metadata": {},
   "source": [
    "### a Sayısı b Sayısından Büyük veya Eşit mi?"
   ]
  },
  {
   "cell_type": "code",
   "execution_count": 175,
   "id": "1ead155d-3de5-4879-b3dd-cfdf16dff6d8",
   "metadata": {},
   "outputs": [
    {
     "name": "stdout",
     "output_type": "stream",
     "text": [
      "False\n"
     ]
    }
   ],
   "source": [
    "print(a >= b)"
   ]
  },
  {
   "cell_type": "markdown",
   "id": "3a04c602-9f02-4ab4-910b-70ea8859f310",
   "metadata": {},
   "source": [
    "### a Sayısı b Sayısından Küçük veya Eşit mi?"
   ]
  },
  {
   "cell_type": "code",
   "execution_count": 178,
   "id": "89adea04-0540-4275-9f8a-a811427f76e6",
   "metadata": {},
   "outputs": [
    {
     "name": "stdout",
     "output_type": "stream",
     "text": [
      "True\n"
     ]
    }
   ],
   "source": [
    "print(a <= b)"
   ]
  },
  {
   "cell_type": "markdown",
   "id": "b45a6188-5637-4575-a72d-6bc35d35ff4b",
   "metadata": {},
   "source": [
    "## Mantıksal Operatörler"
   ]
  },
  {
   "cell_type": "code",
   "execution_count": 181,
   "id": "29fb001a-03e5-40fb-a166-06b631cd22e5",
   "metadata": {},
   "outputs": [],
   "source": [
    "a = True\n",
    "b = False"
   ]
  },
  {
   "cell_type": "markdown",
   "id": "6cd57bfc-5ab8-40da-81e8-cd174a7155e3",
   "metadata": {},
   "source": [
    "### a ve b"
   ]
  },
  {
   "cell_type": "code",
   "execution_count": 183,
   "id": "98e1165e-4331-4995-9292-71d762c43809",
   "metadata": {},
   "outputs": [
    {
     "name": "stdout",
     "output_type": "stream",
     "text": [
      "False\n"
     ]
    }
   ],
   "source": [
    "print(a and b)"
   ]
  },
  {
   "cell_type": "markdown",
   "id": "59d49351-3d9e-46cf-9ead-dafc233b24b8",
   "metadata": {},
   "source": [
    "### a veya b "
   ]
  },
  {
   "cell_type": "code",
   "execution_count": 186,
   "id": "887e0e49-13c9-4664-9429-471387a98eaf",
   "metadata": {},
   "outputs": [
    {
     "name": "stdout",
     "output_type": "stream",
     "text": [
      "True\n"
     ]
    }
   ],
   "source": [
    "print(a or b)"
   ]
  },
  {
   "cell_type": "markdown",
   "id": "ce969c11-467e-48f6-a7c8-51a922d5f4f1",
   "metadata": {},
   "source": [
    "### a'nın Değili"
   ]
  },
  {
   "cell_type": "code",
   "execution_count": 189,
   "id": "6a5adfe1-1562-4da8-b699-af0ba481f1ec",
   "metadata": {},
   "outputs": [
    {
     "name": "stdout",
     "output_type": "stream",
     "text": [
      "False\n"
     ]
    }
   ],
   "source": [
    "print(not a)"
   ]
  },
  {
   "cell_type": "markdown",
   "id": "a2658ec8-c7a3-4903-8594-4003b7fe34bb",
   "metadata": {},
   "source": [
    "## Bitsel Operatörler"
   ]
  },
  {
   "cell_type": "code",
   "execution_count": 200,
   "id": "313490ff-853b-4db1-8cb6-5bb700b9681e",
   "metadata": {},
   "outputs": [],
   "source": [
    "a = True\n",
    "b = False"
   ]
  },
  {
   "cell_type": "markdown",
   "id": "3634035e-944f-4ceb-9fe1-6ca33cfb9e41",
   "metadata": {},
   "source": [
    "### a ve b"
   ]
  },
  {
   "cell_type": "code",
   "execution_count": 203,
   "id": "0d029bea-f656-433e-8725-3398e3c78caa",
   "metadata": {},
   "outputs": [
    {
     "name": "stdout",
     "output_type": "stream",
     "text": [
      "False\n"
     ]
    }
   ],
   "source": [
    "print(a & b)"
   ]
  },
  {
   "cell_type": "markdown",
   "id": "0f64295e-aed6-40c2-89a2-655c06df7d96",
   "metadata": {},
   "source": [
    "### a veya b"
   ]
  },
  {
   "cell_type": "code",
   "execution_count": 206,
   "id": "f96d3e40-bd3f-4609-a972-bdb6f6f51807",
   "metadata": {},
   "outputs": [
    {
     "name": "stdout",
     "output_type": "stream",
     "text": [
      "True\n"
     ]
    }
   ],
   "source": [
    "print(a | b)"
   ]
  },
  {
   "cell_type": "markdown",
   "id": "3b87d026-15c4-423e-9399-2e3b96dd22ff",
   "metadata": {},
   "source": [
    "### a XOR b"
   ]
  },
  {
   "cell_type": "code",
   "execution_count": 211,
   "id": "7f13ddc9-f109-4c3c-8670-d9c758ad5bfe",
   "metadata": {},
   "outputs": [
    {
     "name": "stdout",
     "output_type": "stream",
     "text": [
      "True\n"
     ]
    }
   ],
   "source": [
    "print(a ^ b)"
   ]
  },
  {
   "cell_type": "markdown",
   "id": "357ff426-3a7e-4296-a37a-70ba88a2016d",
   "metadata": {},
   "source": [
    "## Dize Dilimleme"
   ]
  },
  {
   "cell_type": "code",
   "execution_count": 216,
   "id": "63a7404c-7da5-4ff4-b769-925e618be503",
   "metadata": {},
   "outputs": [
    {
     "name": "stdout",
     "output_type": "stream",
     "text": [
      "Mevcut String: \n",
      "Merhaba Dünya\n"
     ]
    }
   ],
   "source": [
    "String1 = \"Merhaba Dünya\"\n",
    "print(\"Mevcut String: \")\n",
    "print(String1)"
   ]
  },
  {
   "cell_type": "markdown",
   "id": "b88182dc-98c0-4021-a053-b7abb558836a",
   "metadata": {},
   "source": [
    "### Baştan 4. Karakteri yazdırma"
   ]
  },
  {
   "cell_type": "code",
   "execution_count": 226,
   "id": "719f557e-6af5-4656-a2d5-aa1838964002",
   "metadata": {},
   "outputs": [
    {
     "name": "stdout",
     "output_type": "stream",
     "text": [
      "haba Düny\n"
     ]
    }
   ],
   "source": [
    "print(String1[3:-1])"
   ]
  },
  {
   "cell_type": "markdown",
   "id": "7d468f3c-38ee-4905-b446-c4a4bb732069",
   "metadata": {},
   "source": [
    "### Baştan 4. Karakterden Başlayarak Sondan 2. Karaktere Kadar Yazdırma"
   ]
  },
  {
   "cell_type": "code",
   "execution_count": 228,
   "id": "10bb8478-e753-493f-8169-3ee35a441216",
   "metadata": {},
   "outputs": [
    {
     "name": "stdout",
     "output_type": "stream",
     "text": [
      "haba Dün\n"
     ]
    }
   ],
   "source": [
    "print(String1[3:-2])"
   ]
  },
  {
   "cell_type": "markdown",
   "id": "ae3d3d1b-a54e-422a-87d5-03a9d2a2d607",
   "metadata": {},
   "source": [
    "## Koşullu İfadeler"
   ]
  },
  {
   "cell_type": "markdown",
   "id": "e4a423e7-4a2d-4b4a-83c8-5226c3cc02d8",
   "metadata": {},
   "source": [
    "### if, elif, else"
   ]
  },
  {
   "cell_type": "code",
   "execution_count": 232,
   "id": "5a838274-f590-454c-b235-7f0d508dfc51",
   "metadata": {},
   "outputs": [
    {
     "name": "stdout",
     "output_type": "stream",
     "text": [
      "i 15'e eşittir\n"
     ]
    }
   ],
   "source": [
    "i = 15\n",
    "if i < 15:\n",
    "    print(\"i 15'den küçüktür\")\n",
    "elif i > 15:\n",
    "    print(\"i 15'den büyüktür\")\n",
    "else:\n",
    "    print(\"i 15'e eşittir\")"
   ]
  },
  {
   "cell_type": "markdown",
   "id": "651f76f7-0fc6-4807-a242-4789a6f67f03",
   "metadata": {},
   "source": [
    "## Döngüler"
   ]
  },
  {
   "cell_type": "markdown",
   "id": "fa605973-35ee-40f5-ae62-3f97262c8501",
   "metadata": {},
   "source": [
    "## for"
   ]
  },
  {
   "cell_type": "code",
   "execution_count": 236,
   "id": "b38779ff-cf9b-4ddb-bfab-3c5ebf5bbb93",
   "metadata": {},
   "outputs": [
    {
     "name": "stdout",
     "output_type": "stream",
     "text": [
      "Ali\n",
      "Ayşe\n",
      "Ali\n"
     ]
    }
   ],
   "source": [
    "list = [\"Ali\", \"Ayşe\", \"Ali\"]\n",
    "\n",
    "for i in list:\n",
    "    print(i)"
   ]
  },
  {
   "cell_type": "markdown",
   "id": "7e249ecc-6384-4416-83ac-8a8755bf35f0",
   "metadata": {},
   "source": [
    "### while"
   ]
  },
  {
   "cell_type": "code",
   "execution_count": 240,
   "id": "1b55ded5-0f70-4a8e-a848-505fb58ddb7f",
   "metadata": {},
   "outputs": [
    {
     "name": "stdout",
     "output_type": "stream",
     "text": [
      "Merhaba Dünya\n",
      "Merhaba Dünya\n",
      "Merhaba Dünya\n"
     ]
    }
   ],
   "source": [
    "sayac = 0\n",
    "while sayac < 3:\n",
    "    sayac = sayac + 1\n",
    "    print(\"Merhaba Dünya\")"
   ]
  },
  {
   "cell_type": "markdown",
   "id": "187a7876-06b5-47db-a302-85fcc6a8f038",
   "metadata": {},
   "source": [
    "## Liste"
   ]
  },
  {
   "cell_type": "code",
   "execution_count": 242,
   "id": "65322e85-16c2-4042-97ea-476256ce1563",
   "metadata": {},
   "outputs": [
    {
     "name": "stdout",
     "output_type": "stream",
     "text": [
      "['Ali', 'Ayşe', 'Ali']\n"
     ]
    }
   ],
   "source": [
    "Var = [\"Ali\", \"Ayşe\", \"Ali\"]\n",
    "print(Var)"
   ]
  },
  {
   "cell_type": "markdown",
   "id": "52876d64-9897-4863-aa51-58e117987d60",
   "metadata": {},
   "source": [
    "### Sayıları Listelere Atama"
   ]
  },
  {
   "cell_type": "code",
   "execution_count": 244,
   "id": "f84acb9f-d06b-4f80-a4fe-72fb932ac5bb",
   "metadata": {},
   "outputs": [
    {
     "name": "stdout",
     "output_type": "stream",
     "text": [
      "[1, 2, 3]\n"
     ]
    }
   ],
   "source": [
    "List = [character for character in [1, 2, 3]]\n",
    "print(List)"
   ]
  },
  {
   "cell_type": "markdown",
   "id": "dd03cf13-f7a1-430e-ac81-dfa72286fa40",
   "metadata": {},
   "source": [
    "## Sözlük"
   ]
  },
  {
   "cell_type": "code",
   "execution_count": 254,
   "id": "d0bafa4f-0d8d-4852-865e-beb21d3f6c44",
   "metadata": {},
   "outputs": [
    {
     "name": "stdout",
     "output_type": "stream",
     "text": [
      "{1: 'Ali', 2: 'Ayşe', 3: 'Ali'}\n"
     ]
    }
   ],
   "source": [
    "Dict = {1: 'Ali', 2: 'Ayşe', 3: 'Ali'}\n",
    "print(Dict)"
   ]
  },
  {
   "cell_type": "markdown",
   "id": "5d38e17c-08d1-452b-a5bb-780ccc66bbd2",
   "metadata": {},
   "source": [
    "### Listeleri Sözlük Tipine Zipleme "
   ]
  },
  {
   "cell_type": "code",
   "execution_count": 257,
   "id": "3422f30e-4904-4126-86e6-ee0c4487b158",
   "metadata": {},
   "outputs": [
    {
     "name": "stdout",
     "output_type": "stream",
     "text": [
      "{'a': 1, 'b': 2, 'c': 3, 'd': 4, 'e': 5}\n"
     ]
    }
   ],
   "source": [
    "keys = ['a', 'b', 'c', 'd', 'e']\n",
    "values = [1, 2, 3, 4, 5]\n",
    "\n",
    "myDict = {k: v for (k, v) in zip(keys, values)}\n",
    "\n",
    "print(myDict)"
   ]
  },
  {
   "cell_type": "markdown",
   "id": "3983bbab-22d7-4f71-94d5-cf8a65830aac",
   "metadata": {},
   "source": [
    "## Tuple"
   ]
  },
  {
   "cell_type": "code",
   "execution_count": 259,
   "id": "6735892e-3e79-4bc4-828f-15b9244d2224",
   "metadata": {},
   "outputs": [
    {
     "name": "stdout",
     "output_type": "stream",
     "text": [
      "('Ali', 'Ayşe', 'Ali')\n"
     ]
    }
   ],
   "source": [
    "var = (\"Ali\", \"Ayşe\", \"Ali\")\n",
    "print(var)"
   ]
  },
  {
   "cell_type": "markdown",
   "id": "06bdfaa1-b21f-49ae-b35f-827766d78a2a",
   "metadata": {},
   "source": [
    "## Küme"
   ]
  },
  {
   "cell_type": "code",
   "execution_count": 264,
   "id": "24f2435b-f53b-4806-8482-2706c453a333",
   "metadata": {},
   "outputs": [
    {
     "name": "stdout",
     "output_type": "stream",
     "text": [
      "{'Ayşe', 'Ali'}\n"
     ]
    }
   ],
   "source": [
    "var = {\"Ali\", \"Ayşe\", \"Ali\"}\n",
    "print(var)"
   ]
  },
  {
   "cell_type": "markdown",
   "id": "bee8616c-16b1-4fca-81ce-079bdcfce961",
   "metadata": {},
   "source": [
    "## Fonksiyon"
   ]
  },
  {
   "cell_type": "code",
   "execution_count": 267,
   "id": "0fe94b2b-f1ac-46c5-92f8-5d9fd42293c6",
   "metadata": {},
   "outputs": [],
   "source": [
    "def fonksiyon():\n",
    "    print(\"Hoş Geldiniz\")"
   ]
  },
  {
   "cell_type": "code",
   "execution_count": 271,
   "id": "000582c1-f211-486f-a6bd-8a2eacf6f958",
   "metadata": {},
   "outputs": [
    {
     "name": "stdout",
     "output_type": "stream",
     "text": [
      "Hoş Geldiniz\n",
      "Hoş Geldiniz\n",
      "Hoş Geldiniz\n"
     ]
    }
   ],
   "source": [
    "fonksiyon()\n",
    "fonksiyon()\n",
    "fonksiyon()"
   ]
  },
  {
   "cell_type": "markdown",
   "id": "ee4d9f7d-c107-4fa0-8eb6-0093cf470f6d",
   "metadata": {},
   "source": [
    "### Parametreli Fonksiyon"
   ]
  },
  {
   "cell_type": "code",
   "execution_count": 284,
   "id": "ed6d0a30-593d-4752-b598-21e9aadf9fa1",
   "metadata": {},
   "outputs": [],
   "source": [
    "def evenOdd(x):\n",
    "    if x % 2 == 0:\n",
    "        print(\"Çift\")\n",
    "    else:\n",
    "        print(\"Tek\")"
   ]
  },
  {
   "cell_type": "code",
   "execution_count": 286,
   "id": "3fa4907b-e709-43c4-ab79-bf7a2e32f105",
   "metadata": {},
   "outputs": [
    {
     "name": "stdout",
     "output_type": "stream",
     "text": [
      "Çift\n",
      "Tek\n",
      "Çift\n",
      "Tek\n",
      "Çift\n",
      "Tek\n"
     ]
    }
   ],
   "source": [
    "evenOdd(0)\n",
    "evenOdd(1)\n",
    "evenOdd(2)\n",
    "evenOdd(3)\n",
    "evenOdd(4)\n",
    "evenOdd(5)"
   ]
  },
  {
   "cell_type": "markdown",
   "id": "d343548b-90f3-4788-b196-3d73d971c035",
   "metadata": {},
   "source": [
    "### Birden Fazla Parametreli Fonksiyon"
   ]
  },
  {
   "cell_type": "code",
   "execution_count": 289,
   "id": "13655d4d-d374-4eb2-9eef-8401705fd5cf",
   "metadata": {},
   "outputs": [],
   "source": [
    "def add(a, b):\n",
    "    print(a + b)"
   ]
  },
  {
   "cell_type": "code",
   "execution_count": 291,
   "id": "18eb339e-46c7-4ddd-851b-00e9b23cff03",
   "metadata": {},
   "outputs": [
    {
     "name": "stdout",
     "output_type": "stream",
     "text": [
      "8\n",
      "13\n"
     ]
    }
   ],
   "source": [
    "add(3, 5)\n",
    "add(2, 11)"
   ]
  },
  {
   "cell_type": "code",
   "execution_count": 293,
   "id": "e8e40c55-fe24-4fa1-bcde-aae8b8f4927b",
   "metadata": {},
   "outputs": [],
   "source": [
    "def dogru_ise(a):\n",
    "    return bool(a)"
   ]
  },
  {
   "cell_type": "code",
   "execution_count": 295,
   "id": "2078c90b-83c9-43db-9f5c-8732b4c23146",
   "metadata": {},
   "outputs": [
    {
     "name": "stdout",
     "output_type": "stream",
     "text": [
      "True\n"
     ]
    }
   ],
   "source": [
    "sonuc = dogru_ise(2 < 5)\n",
    "print(sonuc)"
   ]
  },
  {
   "cell_type": "code",
   "execution_count": 297,
   "id": "03d3148b-ab88-447e-8190-685d2519578b",
   "metadata": {},
   "outputs": [
    {
     "name": "stdout",
     "output_type": "stream",
     "text": [
      "False\n"
     ]
    }
   ],
   "source": [
    "sonuc = dogru_ise(2 > 5)\n",
    "print(sonuc)"
   ]
  },
  {
   "cell_type": "code",
   "execution_count": 325,
   "id": "5a19f8d1-4126-4db7-b0c4-a624c9d8132b",
   "metadata": {},
   "outputs": [],
   "source": [
    "def rangeFonksiyonu():\n",
    "    for i in range(5):\n",
    "        print(i, end=\" \")"
   ]
  },
  {
   "cell_type": "code",
   "execution_count": 327,
   "id": "526baba3-e4a7-4693-b61c-a561a449137c",
   "metadata": {},
   "outputs": [
    {
     "name": "stdout",
     "output_type": "stream",
     "text": [
      "0 1 2 3 4 "
     ]
    }
   ],
   "source": [
    "rangeFonksiyonu()"
   ]
  },
  {
   "cell_type": "code",
   "execution_count": 329,
   "id": "bd58e166-5398-4abe-b2dd-27f6d4a76b99",
   "metadata": {},
   "outputs": [],
   "source": [
    "def birbirine_Ekleme(n):\n",
    "    return n + n"
   ]
  },
  {
   "cell_type": "code",
   "execution_count": 331,
   "id": "0b69e87d-aea7-4da2-8b5e-be67e59cabb1",
   "metadata": {},
   "outputs": [
    {
     "name": "stdout",
     "output_type": "stream",
     "text": [
      "6\n",
      "10\n"
     ]
    }
   ],
   "source": [
    "print(birbirine_Ekleme(3))\n",
    "print(birbirine_Ekleme(5))"
   ]
  },
  {
   "cell_type": "markdown",
   "id": "2de76e7f-1bd7-4da6-9356-4c3d8e36aad9",
   "metadata": {},
   "source": [
    "## Try Except"
   ]
  },
  {
   "cell_type": "code",
   "execution_count": 335,
   "id": "1115b514-9f72-42cd-8ea2-0758ea544fc3",
   "metadata": {},
   "outputs": [
    {
     "name": "stdout",
     "output_type": "stream",
     "text": [
      "İki = 2\n",
      "4. Eleman Yoktur\n"
     ]
    }
   ],
   "source": [
    "a = [1, 2, 3]\n",
    "try:\n",
    "    print(\"İki = %d\" % (a[1]))\n",
    "\n",
    "    # Dizide yalnızca 3 öğe olduğundan hata veriyor\n",
    "    print(\"Fourth element = %d\" % (a[3]))\n",
    "\n",
    "except:\n",
    "    print(\"4. Eleman Yoktur\")"
   ]
  },
  {
   "cell_type": "code",
   "execution_count": null,
   "id": "2fcc4b67-8ce9-4bc2-a5c7-2027ee217df8",
   "metadata": {},
   "outputs": [],
   "source": []
  }
 ],
 "metadata": {
  "kernelspec": {
   "display_name": "Python 3 (ipykernel)",
   "language": "python",
   "name": "python3"
  },
  "language_info": {
   "codemirror_mode": {
    "name": "ipython",
    "version": 3
   },
   "file_extension": ".py",
   "mimetype": "text/x-python",
   "name": "python",
   "nbconvert_exporter": "python",
   "pygments_lexer": "ipython3",
   "version": "3.12.7"
  }
 },
 "nbformat": 4,
 "nbformat_minor": 5
}
